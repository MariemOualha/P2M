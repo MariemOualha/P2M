{
 "cells": [
  {
   "cell_type": "code",
   "execution_count": 1,
   "id": "59b6eb25",
   "metadata": {},
   "outputs": [
    {
     "name": "stdout",
     "output_type": "stream",
     "text": [
      "Collecting imgaug\n",
      "  Downloading imgaug-0.4.0-py2.py3-none-any.whl (948 kB)\n",
      "Collecting Shapely\n",
      "  Downloading Shapely-1.8.1.post1-cp39-cp39-win_amd64.whl (1.3 MB)\n",
      "Requirement already satisfied: numpy>=1.15 in d:\\anaconda\\lib\\site-packages (from imgaug) (1.20.3)\n",
      "Requirement already satisfied: Pillow in d:\\anaconda\\lib\\site-packages (from imgaug) (8.4.0)\n",
      "Requirement already satisfied: scikit-image>=0.14.2 in d:\\anaconda\\lib\\site-packages (from imgaug) (0.18.3)\n",
      "Requirement already satisfied: imageio in d:\\anaconda\\lib\\site-packages (from imgaug) (2.9.0)\n",
      "Requirement already satisfied: matplotlib in d:\\anaconda\\lib\\site-packages (from imgaug) (3.4.3)\n",
      "Requirement already satisfied: six in d:\\anaconda\\lib\\site-packages (from imgaug) (1.16.0)\n",
      "Requirement already satisfied: scipy in d:\\anaconda\\lib\\site-packages (from imgaug) (1.7.1)\n",
      "Collecting opencv-python\n",
      "  Using cached opencv_python-4.5.5.62-cp36-abi3-win_amd64.whl (35.4 MB)\n",
      "Requirement already satisfied: networkx>=2.0 in d:\\anaconda\\lib\\site-packages (from scikit-image>=0.14.2->imgaug) (2.6.3)\n",
      "Requirement already satisfied: tifffile>=2019.7.26 in d:\\anaconda\\lib\\site-packages (from scikit-image>=0.14.2->imgaug) (2021.7.2)\n",
      "Requirement already satisfied: PyWavelets>=1.1.1 in d:\\anaconda\\lib\\site-packages (from scikit-image>=0.14.2->imgaug) (1.1.1)\n",
      "Requirement already satisfied: pyparsing>=2.2.1 in d:\\anaconda\\lib\\site-packages (from matplotlib->imgaug) (3.0.4)\n",
      "Requirement already satisfied: kiwisolver>=1.0.1 in d:\\anaconda\\lib\\site-packages (from matplotlib->imgaug) (1.3.1)\n",
      "Requirement already satisfied: cycler>=0.10 in d:\\anaconda\\lib\\site-packages (from matplotlib->imgaug) (0.10.0)\n",
      "Requirement already satisfied: python-dateutil>=2.7 in d:\\anaconda\\lib\\site-packages (from matplotlib->imgaug) (2.8.2)\n",
      "Installing collected packages: Shapely, opencv-python, imgaug\n",
      "Successfully installed Shapely-1.8.1.post1 imgaug-0.4.0 opencv-python-4.5.5.62\n",
      "Note: you may need to restart the kernel to use updated packages.\n"
     ]
    }
   ],
   "source": [
    "pip install imgaug"
   ]
  },
  {
   "cell_type": "code",
   "execution_count": 2,
   "id": "c00de902",
   "metadata": {},
   "outputs": [],
   "source": [
    "import imgaug.augmenters as iaa\n",
    "import cv2\n",
    "import glob\n"
   ]
  },
  {
   "cell_type": "code",
   "execution_count": null,
   "id": "69dd3ef6",
   "metadata": {},
   "outputs": [],
   "source": [
    "# 1. Load Dataset\n",
    "images = []\n",
    "images_path = glob.glob(\"images/*.jpg\")\n",
    "for img_path in images_path:\n",
    "    img = cv2.imread(img_path)\n",
    "    images.append(img)"
   ]
  }
 ],
 "metadata": {
  "kernelspec": {
   "display_name": "Python 3 (ipykernel)",
   "language": "python",
   "name": "python3"
  },
  "language_info": {
   "codemirror_mode": {
    "name": "ipython",
    "version": 3
   },
   "file_extension": ".py",
   "mimetype": "text/x-python",
   "name": "python",
   "nbconvert_exporter": "python",
   "pygments_lexer": "ipython3",
   "version": "3.9.7"
  }
 },
 "nbformat": 4,
 "nbformat_minor": 5
}
