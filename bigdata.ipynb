{
 "cells": [
  {
   "cell_type": "code",
   "execution_count": 4,
   "metadata": {},
   "outputs": [
    {
     "name": "stdout",
     "output_type": "stream",
     "text": [
      "10000\n"
     ]
    }
   ],
   "source": [
    "# Python program to read\n",
    "# json file\n",
    "\n",
    "\n",
    "import json\n",
    "\n",
    "# Opening JSON file\n",
    "f = open('data.json',)\n",
    "\n",
    "# returns JSON object as\n",
    "# a dictionary\n",
    "data = json.load(f)\n",
    "\n",
    "\n",
    "# Iterating through the json\n",
    "# list\n",
    "for i in data['data']:\n",
    "\tprint(i)\n",
    "\n",
    "# Closing file\n",
    "f.close()\n"
   ]
  },
  {
   "cell_type": "code",
   "execution_count": 1,
   "metadata": {},
   "outputs": [
    {
     "ename": "NameError",
     "evalue": "name 'json' is not defined",
     "output_type": "error",
     "traceback": [
      "\u001b[1;31m---------------------------------------------------------------------------\u001b[0m",
      "\u001b[1;31mNameError\u001b[0m                                 Traceback (most recent call last)",
      "\u001b[1;32m<ipython-input-1-7010b3a9443e>\u001b[0m in \u001b[0;36m<module>\u001b[1;34m\u001b[0m\n\u001b[0;32m      1\u001b[0m \u001b[0mf\u001b[0m \u001b[1;33m=\u001b[0m \u001b[0mopen\u001b[0m\u001b[1;33m(\u001b[0m\u001b[1;34m'bigdata.json'\u001b[0m\u001b[1;33m,\u001b[0m\u001b[1;33m)\u001b[0m\u001b[1;33m\u001b[0m\u001b[1;33m\u001b[0m\u001b[0m\n\u001b[1;32m----> 2\u001b[1;33m \u001b[0mdata\u001b[0m \u001b[1;33m=\u001b[0m \u001b[0mjson\u001b[0m\u001b[1;33m.\u001b[0m\u001b[0mload\u001b[0m\u001b[1;33m(\u001b[0m\u001b[0mf\u001b[0m\u001b[1;33m)\u001b[0m\u001b[1;33m\u001b[0m\u001b[1;33m\u001b[0m\u001b[0m\n\u001b[0m\u001b[0;32m      3\u001b[0m \u001b[0md_data\u001b[0m\u001b[1;33m=\u001b[0m \u001b[1;33m{\u001b[0m\u001b[1;33m}\u001b[0m \u001b[1;31m# cle:nom / valeur: dictionnaire(categorie,box2d)\u001b[0m\u001b[1;33m\u001b[0m\u001b[1;33m\u001b[0m\u001b[0m\n\u001b[0;32m      4\u001b[0m \u001b[1;31m#dictionnaire= data['data']\u001b[0m\u001b[1;33m\u001b[0m\u001b[1;33m\u001b[0m\u001b[1;33m\u001b[0m\u001b[0m\n\u001b[0;32m      5\u001b[0m \u001b[1;32mfor\u001b[0m \u001b[0mi\u001b[0m \u001b[1;32min\u001b[0m \u001b[0mdata\u001b[0m\u001b[1;33m:\u001b[0m\u001b[1;33m\u001b[0m\u001b[1;33m\u001b[0m\u001b[0m\n",
      "\u001b[1;31mNameError\u001b[0m: name 'json' is not defined"
     ]
    }
   ],
   "source": [
    "f = open('data.json',)\n",
    "data = json.load(f)\n",
    "d_data= {} # cle:nom / valeur: dictionnaire(categorie,box2d)\n",
    "dictionnaire= data['data']\n",
    "for i in dictionnaire:\n",
    "    d_valeur={} #cle:val -> 'category':'car' / 'box2d':dictionnaire\n",
    "    for e in dictionnaire['labels']:\n",
    "        di=dictionnaire['labels']\n",
    "        d_box2d = {} #cle:valeur -> 'x1':val , 'x2':val , 'y1':val, 'y2':val\n",
    "        \n",
    "        d_box2d['x1']=di['box2d']['x1']\n",
    "        d_box2d['x2']=di['box2d']['x2']\n",
    "        d_box2d['y1']=di['box2d']['y1']\n",
    "        d_box2d['y2']=di['box2d']['y2']\n",
    "        d_valeur['category']=di['category']\n",
    "        d_valeur['box2d']=d_box2d\n",
    "        \n",
    "    d_data[dictionnaire['name']]=d_valeur    \n",
    "\n",
    "f.close()\n",
    "d_data\n"
   ]
  },
  {
   "cell_type": "code",
   "execution_count": 5,
   "metadata": {},
   "outputs": [
    {
     "name": "stdout",
     "output_type": "stream",
     "text": [
      "69863\n"
     ]
    }
   ],
   "source": [
    "import json\n",
    "f = open('bigdata.json',)\n",
    "data = json.load(f)\n",
    "l=[]\n",
    "d_data= {} # cle:nom / valeur: dictionnaire(categorie,box2d)\n",
    "#dictionnaire= data['data']\n",
    "for i in data:\n",
    "    \n",
    "    d_valeur={} #cle:val -> 'category':'car' / 'box2d':dictionnaire\n",
    "    l_label=i['labels']\n",
    "    for e in l_label: \n",
    "        if(e['category']=='car') or (e['category']=='person') or (e['category']=='bike'):\n",
    "            d_valeur['category']=e['category']\n",
    "            d_valeur['box2d']=e['box2d']\n",
    "            #print(d_valeur)\n",
    "    \n",
    "    d_data[i['name']]=d_valeur\n",
    "print(len(d_data))\n",
    "#print(d_data)\n",
    "\n",
    "f.close()"
   ]
  },
  {
   "cell_type": "code",
   "execution_count": 6,
   "metadata": {},
   "outputs": [],
   "source": [
    "import json\n",
    "for e in d_data:\n",
    "    filename=e[:17]+\".txt\"\n",
    "    file = open(filename, \"w+\")\n",
    "    s=json.dumps(d_data[e])\n",
    "    file.write(s)\n",
    "    file.close()"
   ]
  },
  {
   "cell_type": "code",
   "execution_count": null,
   "metadata": {},
   "outputs": [],
   "source": [
    "import json\n",
    "f = open('bigdata.json',)\n",
    "data2 = json.load(f)\n",
    "l=[]\n",
    "d_bigdata= {} # cle:nom / valeur: dictionnaire(categorie,box2d)\n",
    "dictionnaire= data2['data']\n",
    "for i in dictionnaire:\n",
    "    \n",
    "    d_valeur={} #cle:val -> 'category':'car' / 'box2d':dictionnaire\n",
    "    l_label=i['labels']\n",
    "    for e in l_label: \n",
    "        if(e['category']=='car') or (e['category']=='person') or (e['category']=='bike'):\n",
    "            d_valeur['category']=e['category']\n",
    "            d_valeur['box2d']=e['box2d']\n",
    "            #print(d_valeur)\n",
    "    \n",
    "    d_bigdata[i['name']]=d_valeur\n",
    "print(len(d_bigdata))\n",
    "print(d_bigdata)\n",
    "\n",
    "f.close()"
   ]
  }
 ],
 "metadata": {
  "kernelspec": {
   "display_name": "Python 3 (ipykernel)",
   "language": "python",
   "name": "python3"
  },
  "language_info": {
   "codemirror_mode": {
    "name": "ipython",
    "version": 3
   },
   "file_extension": ".py",
   "mimetype": "text/x-python",
   "name": "python",
   "nbconvert_exporter": "python",
   "pygments_lexer": "ipython3",
   "version": "3.9.7"
  }
 },
 "nbformat": 4,
 "nbformat_minor": 4
}
