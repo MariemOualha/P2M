{
 "cells": [
  {
   "cell_type": "markdown",
   "metadata": {},
   "source": [
    "### Nom du fichier json"
   ]
  },
  {
   "cell_type": "code",
   "execution_count": null,
   "metadata": {},
   "outputs": [],
   "source": [
    "json_name = 'bigdata.json'"
   ]
  },
  {
   "cell_type": "markdown",
   "metadata": {},
   "source": [
    "## Lire & afficher in fichier json"
   ]
  },
  {
   "cell_type": "code",
   "execution_count": null,
   "metadata": {},
   "outputs": [],
   "source": [
    "import json\n",
    "\n",
    "# Opening JSON file\n",
    "f = open(json_name,)\n",
    "\n",
    "# returns JSON object as\n",
    "# a dictionary\n",
    "data = json.load(f)\n",
    "\n",
    "# Iterating through the json\n",
    "# list\n",
    "for i in data:\n",
    "\tprint(i)\n",
    "\n",
    "# Closing file\n",
    "f.close()\n"
   ]
  },
  {
   "cell_type": "markdown",
   "metadata": {},
   "source": [
    "### Séléctionner les données de travail"
   ]
  },
  {
   "cell_type": "markdown",
   "metadata": {},
   "source": [
    "Sélectionner les noms, les catégories et dimensions des cadres à partir des fichiers json"
   ]
  },
  {
   "cell_type": "code",
   "execution_count": 3,
   "metadata": {},
   "outputs": [
    {
     "name": "stdout",
     "output_type": "stream",
     "text": [
      "69863\n"
     ]
    },
    {
     "name": "stderr",
     "output_type": "stream",
     "text": [
      "IOPub data rate exceeded.\n",
      "The notebook server will temporarily stop sending output\n",
      "to the client in order to avoid crashing it.\n",
      "To change this limit, set the config variable\n",
      "`--NotebookApp.iopub_data_rate_limit`.\n",
      "\n",
      "Current values:\n",
      "NotebookApp.iopub_data_rate_limit=1000000.0 (bytes/sec)\n",
      "NotebookApp.rate_limit_window=3.0 (secs)\n",
      "\n"
     ]
    }
   ],
   "source": [
    "import json\n",
    "\n",
    "f = open(json_name,)\n",
    "data = json.load(f)\n",
    "l=[]\n",
    "d_data= {} \n",
    "\n",
    "for i in data:\n",
    "    d_valeur={}\n",
    "    l_label=i['labels']\n",
    "    for e in l_label: \n",
    "        if(e['category']=='car') or (e['category']=='person') or (e['category']=='bike'):\n",
    "            d_valeur['category']=e['category']\n",
    "            d_valeur['box2d']=e['box2d']\n",
    "    \n",
    "    d_data[i['name']]=d_valeur\n",
    "print(len(d_data))\n",
    "print(d_data)\n",
    "\n",
    "f.close()"
   ]
  },
  {
   "cell_type": "markdown",
   "metadata": {},
   "source": [
    "### Créer des fichiers txt à chaque image"
   ]
  },
  {
   "cell_type": "code",
   "execution_count": 6,
   "metadata": {},
   "outputs": [],
   "source": [
    "import json\n",
    "for e in d_data:\n",
    "    filename=e[:17]+\".txt\"\n",
    "    file = open(filename, \"w+\")\n",
    "    s=json.dumps(d_data[e])\n",
    "    file.write(s)\n",
    "    file.close()"
   ]
  },
  {
   "cell_type": "markdown",
   "metadata": {},
   "source": [
    "### Data exploring"
   ]
  },
  {
   "cell_type": "code",
   "execution_count": 5,
   "metadata": {},
   "outputs": [
    {
     "data": {
      "image/png": "[encoded data removed]",
      "text/plain": [
       "<Figure size 648x216 with 1 Axes>"
      ]
     },
     "metadata": {
      "needs_background": "light"
     },
     "output_type": "display_data"
    }
   ],
   "source": [
    "import json\n",
    "import matplotlib.pyplot as plt\n",
    "f = open(json_name,)\n",
    "data = json.load(f)\n",
    "l=[]\n",
    "c_bike=0\n",
    "c_person=0\n",
    "c_car=0\n",
    "d_data= {} # cle:nom / valeur: dictionnaire(categorie,box2d)\n",
    "#dictionnaire= data['data']\n",
    "for i in data:\n",
    "    \n",
    "    d_valeur={} #cle:val -> 'category':'car' / 'box2d':dictionnaire\n",
    "    l_label=i['labels']\n",
    "    for e in l_label: \n",
    "        if(e['category']=='car'):\n",
    "            c_car+=1\n",
    "        if(e['category']=='person'):\n",
    "            c_person+=1\n",
    "        if(e['category']=='bike'):\n",
    "            c_bike+=1\n",
    "    d_data[i['name']]=d_valeur\n",
    "#print(len(d_data))\n",
    "#print(d_data)\n",
    "names = ['car', 'person', 'bike']\n",
    "values = [c_car, c_person, c_bike]\n",
    "plt.figure(figsize=(9, 3))\n",
    "\n",
    "plt.subplot(131)\n",
    "plt.bar(names, values)\n",
    "f.close()"
   ]
  }
 ],
 "metadata": {
  "kernelspec": {
   "display_name": "Python 3 (ipykernel)",
   "language": "python",
   "name": "python3"
  },
  "language_info": {
   "codemirror_mode": {
    "name": "ipython",
    "version": 3
   },
   "file_extension": ".py",
   "mimetype": "text/x-python",
   "name": "python",
   "nbconvert_exporter": "python",
   "pygments_lexer": "ipython3",
   "version": "3.9.7"
  }
 },
 "nbformat": 4,
 "nbformat_minor": 4
}
