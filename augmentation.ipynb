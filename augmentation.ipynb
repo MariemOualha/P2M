{
 "cells": [
  {
   "cell_type": "markdown",
   "metadata": {},
   "source": [
    "# Data augmentation"
   ]
  },
  {
   "cell_type": "code",
   "execution_count": 3,
   "metadata": {},
   "outputs": [],
   "source": [
    "base_path='C:/Users/21694/Desktop/P2M/augmentation'\n",
    "images_path='C:/Users/21694/Desktop/P2M/augmentation/images'\n",
    "labels_path='C:/Users/21694/Desktop/P2M/augmentation/labels'    "
   ]
  },
  {
   "cell_type": "markdown",
   "metadata": {},
   "source": [
    "## Labels importation & conversion to dict of name:json "
   ]
  },
  {
   "cell_type": "code",
   "execution_count": 21,
   "metadata": {},
   "outputs": [
    {
     "name": "stdout",
     "output_type": "stream",
     "text": [
      "\n",
      "\n",
      "\n"
     ]
    },
    {
     "data": {
      "text/plain": [
       "{'b1c66a42-6f7d68ca': {'category': 'car',\n",
       "  'box2d': {'x1': 452.934718,\n",
       "   'y1': 353.114393,\n",
       "   'x2': 479.137552,\n",
       "   'y2': 373.078459}},\n",
       " 'b1c81faa-3df17267': {'category': 'car',\n",
       "  'box2d': {'x1': 1027.299139,\n",
       "   'y1': 290.47426,\n",
       "   'x2': 1052.536255,\n",
       "   'y2': 306.804159}},\n",
       " 'b1c9c847-3bda4659': {'category': 'car',\n",
       "  'box2d': {'x1': 0, 'y1': 313.408454, 'x2': 41.57316, 'y2': 431.968954}}}"
      ]
     },
     "execution_count": 21,
     "metadata": {},
     "output_type": "execute_result"
    }
   ],
   "source": [
    "import os\n",
    "import json\n",
    "\n",
    "labels = os.listdir(labels_path)\n",
    "dict_labels_json={} #cle:name -> valeur:json information\n",
    "\n",
    "for name in labels:\n",
    "    f = open(os.path.join(labels_path,name), \"r\")\n",
    "    ch=f.read()\n",
    "    print(f.read())\n",
    "    dict_labels_json[name[:17]]=json.loads(ch) #convert the strinf value of text to json file\n",
    "    \n",
    "dict_labels_json"
   ]
  },
  {
   "cell_type": "markdown",
   "metadata": {},
   "source": [
    "## Visualisation de l'image"
   ]
  },
  {
   "cell_type": "code",
   "execution_count": 22,
   "metadata": {},
   "outputs": [
    {
     "data": {
      "text/plain": [
       "48"
      ]
     },
     "execution_count": 22,
     "metadata": {},
     "output_type": "execute_result"
    }
   ],
   "source": [
    "import cv2\n",
    "import os\n",
    " \n",
    "name='b1c66a42-6f7d68ca.jpg'\n",
    "image_url = os.path.join(images_path,name)\n",
    "image = cv2.imread(image_url, cv2.COLOR_BGR2RGB)\n",
    "x1= dict_labels_json['b1c66a42-6f7d68ca']['box2d']['x1']\n",
    "x2= dict_labels_json['b1c66a42-6f7d68ca']['box2d']['x2']\n",
    "y1= dict_labels_json['b1c66a42-6f7d68ca']['box2d']['y1']\n",
    "y2= dict_labels_json['b1c66a42-6f7d68ca']['box2d']['y2']\n",
    "start_point = (int(x1), int(x2))\n",
    "end_point = (int(y1), int(y2))\n",
    "color = (0, 0, 255)\n",
    "thickness = 3\n",
    "\n",
    "image_with_rectangle = cv2.rectangle(\n",
    "    img = image,\n",
    "    pt1 = start_point,\n",
    "    pt2 = end_point, \n",
    "    color = color, \n",
    "    thickness = thickness\n",
    ")\n",
    "cv2.imshow(\"Image with a Rectangle\", image_with_rectangle)\n",
    "cv2.waitKey(0)"
   ]
  }
 ],
 "metadata": {
  "kernelspec": {
   "display_name": "Python 3 (ipykernel)",
   "language": "python",
   "name": "python3"
  },
  "language_info": {
   "codemirror_mode": {
    "name": "ipython",
    "version": 3
   },
   "file_extension": ".py",
   "mimetype": "text/x-python",
   "name": "python",
   "nbconvert_exporter": "python",
   "pygments_lexer": "ipython3",
   "version": "3.9.7"
  }
 },
 "nbformat": 4,
 "nbformat_minor": 4
}
